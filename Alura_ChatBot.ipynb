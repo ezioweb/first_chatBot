{
  "nbformat": 4,
  "nbformat_minor": 0,
  "metadata": {
    "colab": {
      "provenance": [],
      "authorship_tag": "ABX9TyPAiTN+++Cz2+v683OgPYtf",
      "include_colab_link": true
    },
    "kernelspec": {
      "name": "python3",
      "display_name": "Python 3"
    },
    "language_info": {
      "name": "python"
    }
  },
  "cells": [
    {
      "cell_type": "markdown",
      "metadata": {
        "id": "view-in-github",
        "colab_type": "text"
      },
      "source": [
        "<a href=\"https://colab.research.google.com/github/ezioweb/first_chatBot/blob/main/Alura_ChatBot.ipynb\" target=\"_parent\"><img src=\"https://colab.research.google.com/assets/colab-badge.svg\" alt=\"Open In Colab\"/></a>"
      ]
    },
    {
      "cell_type": "markdown",
      "source": [
        "ChatBot"
      ],
      "metadata": {
        "id": "1scIfwF1iaEv"
      }
    },
    {
      "cell_type": "markdown",
      "source": [
        "Instalando a API"
      ],
      "metadata": {
        "id": "Q_ZYAUQ-yny3"
      }
    },
    {
      "cell_type": "code",
      "execution_count": 1,
      "metadata": {
        "id": "NzeuuYO2iZPZ"
      },
      "outputs": [],
      "source": [
        "!pip install -q -U google-generativeai"
      ]
    },
    {
      "cell_type": "markdown",
      "source": [
        "Importanto a API Gemini"
      ],
      "metadata": {
        "id": "9WIrpoZXyyQE"
      }
    },
    {
      "cell_type": "code",
      "source": [
        "import google.generativeai as genai"
      ],
      "metadata": {
        "id": "s1OzIpeVyvic"
      },
      "execution_count": null,
      "outputs": []
    },
    {
      "cell_type": "markdown",
      "source": [
        "Introduzindo a chave da API"
      ],
      "metadata": {
        "id": "bWDLHQaly77v"
      }
    },
    {
      "cell_type": "code",
      "source": [
        "# Used to securely store your API key - put your API KEY in the Secret\n",
        "from google.colab import userdata\n",
        "GOOGLE_API_KEY=userdata.get('GOOGLE_API_KEY')\n",
        "\n",
        "genai.configure(api_key=GOOGLE_API_KEY)"
      ],
      "metadata": {
        "id": "bxggwAcsx7jk"
      },
      "execution_count": 28,
      "outputs": []
    },
    {
      "cell_type": "markdown",
      "source": [
        "Listando os modelos"
      ],
      "metadata": {
        "id": "IKAv4iFnzF5l"
      }
    },
    {
      "cell_type": "code",
      "source": [
        "for m in genai.list_models():\n",
        "    if 'generateContent' in m.supported_generation_methods:\n",
        "        print(m.name)"
      ],
      "metadata": {
        "colab": {
          "base_uri": "https://localhost:8080/",
          "height": 139
        },
        "id": "JkXk0zu-n8Xb",
        "outputId": "d18153b1-877e-4a4f-95cd-d5a73392f6a4"
      },
      "execution_count": 3,
      "outputs": [
        {
          "output_type": "stream",
          "name": "stdout",
          "text": [
            "models/gemini-1.0-pro\n",
            "models/gemini-1.0-pro-001\n",
            "models/gemini-1.0-pro-latest\n",
            "models/gemini-1.0-pro-vision-latest\n",
            "models/gemini-1.5-pro-latest\n",
            "models/gemini-pro\n",
            "models/gemini-pro-vision\n"
          ]
        }
      ]
    },
    {
      "cell_type": "markdown",
      "source": [
        "Configurando os parâmetros"
      ],
      "metadata": {
        "id": "3X-fNc84zKSt"
      }
    },
    {
      "cell_type": "code",
      "source": [
        "generation_config = {\n",
        "    \"candidate_count\": 1,\n",
        "    \"temperature\": 0.5,\n",
        "}"
      ],
      "metadata": {
        "id": "k7KFDePzp1Lz"
      },
      "execution_count": 13,
      "outputs": []
    },
    {
      "cell_type": "code",
      "source": [
        "safety_settings = {\n",
        "    \"HARASSMENT\": \"BLOCK_NONE\",\n",
        "    \"HATE\": \"BLOCK_NONE\",\n",
        "    \"SEXUAL\": \"BLOCK_NONE\",\n",
        "    \"DANGEROUS\": \"BLOCK_NONE\",\n",
        "}"
      ],
      "metadata": {
        "id": "VsoOAfpNqPRS"
      },
      "execution_count": 6,
      "outputs": []
    },
    {
      "cell_type": "markdown",
      "source": [
        "iNICIANDO O MODELO"
      ],
      "metadata": {
        "id": "0zDsvVB6rJYp"
      }
    },
    {
      "cell_type": "code",
      "source": [
        "model = genai.GenerativeModel(model_name=\"gemini-1.0-pro\", generation_config=generation_config, safety_settings=safety_settings)"
      ],
      "metadata": {
        "id": "O-L6kWHCrNDQ"
      },
      "execution_count": 14,
      "outputs": []
    },
    {
      "cell_type": "code",
      "source": [
        "response = model.generate_content(\"Vamos aprender sobre IA, me dê sugestões\")\n",
        "print(response.text)"
      ],
      "metadata": {
        "colab": {
          "base_uri": "https://localhost:8080/",
          "height": 659
        },
        "id": "qTTnTZlwsDq8",
        "outputId": "655fc389-e024-45e3-92f6-a18cfb969315"
      },
      "execution_count": 19,
      "outputs": [
        {
          "output_type": "stream",
          "name": "stdout",
          "text": [
            "**Recursos Online:**\n",
            "\n",
            "* **Coursera:** Cursos de IA de universidades de renome, como Stanford e MIT.\n",
            "* **edX:** Outro provedor de cursos online com opções de IA.\n",
            "* **Udemy:** Plataforma abrangente com cursos de IA para todos os níveis.\n",
            "* **YouTube:** Canais dedicados à IA, como \"3Blue1Brown\" e \"DeepMind\".\n",
            "* **Google AI Blog:** Blog oficial do Google AI com artigos técnicos e atualizações de pesquisa.\n",
            "\n",
            "**Livros:**\n",
            "\n",
            "* **Inteligência Artificial: Uma Abordagem Moderna** por Stuart Russell e Peter Norvig\n",
            "* **Aprendizado de Máquina** por Tom Mitchell\n",
            "* **Aprendizado Profundo** por Ian Goodfellow, Yoshua Bengio e Aaron Courville\n",
            "* **IA para Todos** por Andrew Ng\n",
            "* **Inteligência Artificial: Um Guia Moderno** por Melanie Mitchell\n",
            "\n",
            "**Comunidades e Fóruns:**\n",
            "\n",
            "* **Reddit (r/artificialintelligence):** Comunidade online ativa para discussões sobre IA.\n",
            "* **Stack Overflow (tag: ia):** Fórum para perguntas e respostas técnicas sobre IA.\n",
            "* **LinkedIn (Grupos de IA):** Grupos profissionais para conectar-se com outros profissionais de IA.\n",
            "* **Meetup (Grupos de IA):** Eventos locais para networking e aprendizado sobre IA.\n",
            "\n",
            "**Projetos Práticos:**\n",
            "\n",
            "* **Kaggle:** Plataforma de competição para resolver problemas de IA do mundo real.\n",
            "* **TensorFlow:** Biblioteca de aprendizado de máquina de código aberto do Google.\n",
            "* **PyTorch:** Outra biblioteca de aprendizado de máquina de código aberto.\n",
            "* **OpenAI Gym:** Ambiente de simulação para desenvolver e testar algoritmos de IA.\n",
            "* **GitHub (Repositórios de IA):** Explore repositórios de código-fonte para projetos de IA.\n",
            "\n",
            "**Eventos e Conferências:**\n",
            "\n",
            "* **Conferência Internacional Conjunta sobre Inteligência Artificial (IJCAI):** Uma das maiores conferências de IA do mundo.\n",
            "* **Conferência sobre Sistemas de Processamento de Informação Neural (NeurIPS):** Conferência de aprendizado de máquina e aprendizado profundo.\n",
            "* **Conferência de Visão Computacional e Reconhecimento de Padrões (CVPR):** Conferência sobre visão computacional e processamento de imagens.\n",
            "* **Conferência Internacional sobre Robótica e Automação (ICRA):** Conferência sobre robótica e automação.\n"
          ]
        }
      ]
    },
    {
      "cell_type": "code",
      "source": [
        "chat = model.start_chat(history=[])"
      ],
      "metadata": {
        "id": "9jzKgWuLtFRt"
      },
      "execution_count": 20,
      "outputs": []
    },
    {
      "cell_type": "code",
      "source": [
        "chat_history = chat.history"
      ],
      "metadata": {
        "id": "OWjVqlpnv-Mv"
      },
      "execution_count": 25,
      "outputs": []
    },
    {
      "cell_type": "markdown",
      "source": [
        "Melhorando a visualização do histórico"
      ],
      "metadata": {
        "id": "xnYue3YbzP2N"
      }
    },
    {
      "cell_type": "code",
      "source": [
        "#Melhorando a visualização\n",
        "#Código disponível em https://ai.google.dev/tutorials/python quickstart#import_packages\n",
        "import textwrap\n",
        "\n",
        "from IPython.display import display\n",
        "from IPython.display import Markdown\n",
        "\n",
        "def to_markdown(text):\n",
        "  \"\"\"Converte texto simples em Markdown formatado.\"\"\"\n",
        "  text = text.replace('\"', \"'\")\n",
        "  return Markdown(textwrap.indent(text, '> ', predicate=lambda _: True))\n",
        "\n",
        "#Imprimindo o histórico\n",
        "for message in chat_history:\n",
        "  display(to_markdown(f\"**{message.role}**: {message.parts[0].text}\"))\n",
        "  print(\"---\")"
      ],
      "metadata": {
        "colab": {
          "base_uri": "https://localhost:8080/",
          "height": 519
        },
        "id": "qIKBM2Pyvut5",
        "outputId": "3113ce33-98c9-4304-b245-6131e22a189e"
      },
      "execution_count": 26,
      "outputs": [
        {
          "output_type": "display_data",
          "data": {
            "text/plain": [
              "<IPython.core.display.Markdown object>"
            ],
            "text/markdown": "> **user**: Qual a capital do Japão?"
          },
          "metadata": {}
        },
        {
          "output_type": "stream",
          "name": "stdout",
          "text": [
            "---\n"
          ]
        },
        {
          "output_type": "display_data",
          "data": {
            "text/plain": [
              "<IPython.core.display.Markdown object>"
            ],
            "text/markdown": "> **model**: Tóquio"
          },
          "metadata": {}
        },
        {
          "output_type": "stream",
          "name": "stdout",
          "text": [
            "---\n"
          ]
        },
        {
          "output_type": "display_data",
          "data": {
            "text/plain": [
              "<IPython.core.display.Markdown object>"
            ],
            "text/markdown": "> **user**: Qual a comida típica desse pais?"
          },
          "metadata": {}
        },
        {
          "output_type": "stream",
          "name": "stdout",
          "text": [
            "---\n"
          ]
        },
        {
          "output_type": "display_data",
          "data": {
            "text/plain": [
              "<IPython.core.display.Markdown object>"
            ],
            "text/markdown": "> **model**: Sushi"
          },
          "metadata": {}
        },
        {
          "output_type": "stream",
          "name": "stdout",
          "text": [
            "---\n"
          ]
        },
        {
          "output_type": "display_data",
          "data": {
            "text/plain": [
              "<IPython.core.display.Markdown object>"
            ],
            "text/markdown": "> **user**: Qual a capital do Brasil?"
          },
          "metadata": {}
        },
        {
          "output_type": "stream",
          "name": "stdout",
          "text": [
            "---\n"
          ]
        },
        {
          "output_type": "display_data",
          "data": {
            "text/plain": [
              "<IPython.core.display.Markdown object>"
            ],
            "text/markdown": "> **model**: Brasília"
          },
          "metadata": {}
        },
        {
          "output_type": "stream",
          "name": "stdout",
          "text": [
            "---\n"
          ]
        },
        {
          "output_type": "display_data",
          "data": {
            "text/plain": [
              "<IPython.core.display.Markdown object>"
            ],
            "text/markdown": "> **user**: Qual a comida típida desse país?"
          },
          "metadata": {}
        },
        {
          "output_type": "stream",
          "name": "stdout",
          "text": [
            "---\n"
          ]
        },
        {
          "output_type": "display_data",
          "data": {
            "text/plain": [
              "<IPython.core.display.Markdown object>"
            ],
            "text/markdown": "> **model**: Feijoada"
          },
          "metadata": {}
        },
        {
          "output_type": "stream",
          "name": "stdout",
          "text": [
            "---\n"
          ]
        }
      ]
    },
    {
      "cell_type": "markdown",
      "source": [
        "Executando o chat"
      ],
      "metadata": {
        "id": "_1gPqy_wzZ_l"
      }
    },
    {
      "cell_type": "code",
      "source": [
        "prompt = input(\"Esperando prompt \")\n",
        "\n",
        "while prompt != \"fim\":\n",
        "    response = chat.send_message(prompt)\n",
        "    print(\"Resposta: \", response.text, \"\\n\")\n",
        "    prompt = input(\"Esperando prompt \")"
      ],
      "metadata": {
        "colab": {
          "base_uri": "https://localhost:8080/",
          "height": 139
        },
        "id": "AI_P5N6ztXtU",
        "outputId": "1d5246e6-c84c-421f-9861-5fcd2056e172"
      },
      "execution_count": 29,
      "outputs": [
        {
          "name": "stdout",
          "output_type": "stream",
          "text": [
            "Esperando prompt Qual a comida típica da Turquia?\n",
            "Resposta:  Kebab \n",
            "\n",
            "Esperando prompt Qual a capital desse país?\n",
            "Resposta:  Ancara \n",
            "\n",
            "Esperando prompt fim\n"
          ]
        }
      ]
    }
  ]
}